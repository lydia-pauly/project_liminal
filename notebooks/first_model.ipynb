{
 "cells": [
  {
   "cell_type": "code",
   "execution_count": 1,
   "id": "6ae0d34e",
   "metadata": {
    "ExecuteTime": {
     "end_time": "2023-03-07T09:52:47.210639Z",
     "start_time": "2023-03-07T09:52:41.445694Z"
    }
   },
   "outputs": [],
   "source": [
    "from tensorflow.keras import layers\n",
    "from tensorflow.keras.models import Sequential\n",
    "from tensorflow.keras.losses import BinaryCrossentropy\n",
    "from tensorflow import zeros_like, ones_like, function, GradientTape\n",
    "from tensorflow.train import Checkpoint\n",
    "from tensorflow.random import normal\n",
    "from IPython import display\n",
    "import time\n",
    "import os\n",
    "import pandas as pd\n",
    "import numpy as np\n",
    "import matplotlib.pyplot as plt"
   ]
  },
  {
   "cell_type": "markdown",
   "id": "becf3f72",
   "metadata": {},
   "source": [
    "## Preprocessing"
   ]
  },
  {
   "cell_type": "code",
   "execution_count": 2,
   "id": "da9649ce",
   "metadata": {
    "ExecuteTime": {
     "end_time": "2023-03-07T09:52:47.219634Z",
     "start_time": "2023-03-07T09:52:47.214283Z"
    }
   },
   "outputs": [],
   "source": [
    "BUFFER_SIZE = 60000\n",
    "BATCH_SIZE = 256"
   ]
  },
  {
   "cell_type": "markdown",
   "id": "0dfbf657",
   "metadata": {},
   "source": [
    "## Generator"
   ]
  },
  {
   "cell_type": "code",
   "execution_count": 3,
   "id": "f17d99a5",
   "metadata": {
    "ExecuteTime": {
     "end_time": "2023-03-07T09:52:47.243911Z",
     "start_time": "2023-03-07T09:52:47.226243Z"
    }
   },
   "outputs": [],
   "source": [
    "def make_generator_model() :\n",
    "\n",
    "    #Establish the sequential model\n",
    "    model = Sequential()\n",
    "\n",
    "    #Start from latent space (REMEMBER - GENERATOR ARCHITECTURE MUST MIRROR DISCRIMINITOR ARCHITECTURE)\n",
    "    #Noise comes in as (100,0) vector\n",
    "    model.add(layers.Dense(7*7*256, use_bias=False, input_shape=(100,)))\n",
    "\n",
    "    #Transformer - Transforms output so that mean output -> 0 and SD output -> 1\n",
    "    model.add(layers.BatchNormalization())\n",
    "\n",
    "    #Activator - weights for generating an image?\n",
    "    model.add(layers.LeakyReLU())\n",
    "\n",
    "    #Reshape - first step towards final image size (separate out neurons)\n",
    "    model.add(layers.Reshape((7, 7, 256)))\n",
    "\n",
    "    #Check that output is correct shape\n",
    "    assert model.output_shape == (None, 7, 7, 256)  # Note: None is the batch size\n",
    "\n",
    "    #Deconvolute from 7x7x256 to 7x7x128\n",
    "    model.add(layers.Conv2DTranspose(128, (5, 5), strides=(1, 1), padding='same', use_bias=False))\n",
    "\n",
    "    #Check that output is correct shape\n",
    "    assert model.output_shape == (None, 7, 7, 128)\n",
    "\n",
    "    #Transformer - Transforms output so that mean output -> 0 and SD output -> 1\n",
    "    model.add(layers.BatchNormalization())\n",
    "\n",
    "    #Activator - weights for generating an image?\n",
    "    model.add(layers.LeakyReLU())\n",
    "\n",
    "    #Deconvolute from 7x7x128 to 14x14x64\n",
    "    model.add(layers.Conv2DTranspose(64, (5, 5), strides=(2, 2), padding='same', use_bias=False))\n",
    "\n",
    "    #Check that output is correct shape\n",
    "    assert model.output_shape == (None, 14, 14, 64)\n",
    "\n",
    "    #Transformer - Transforms output so that mean output -> 0 and SD output -> 1\n",
    "    model.add(layers.BatchNormalization())\n",
    "\n",
    "    #Activator - weights for generating an image?\n",
    "    model.add(layers.LeakyReLU())\n",
    "\n",
    "    #Deconvolute from 14x14x64 to 28x28x64\n",
    "    model.add(layers.Conv2DTranspose(64, (5, 5), strides=(2, 2), padding='same', use_bias=False, activation='tanh'))\n",
    "\n",
    "    #Transformer - Transforms output so that mean output -> 0 and SD output -> 1\n",
    "    model.add(layers.BatchNormalization())\n",
    "\n",
    "    #Activator - weights for generating an image?\n",
    "    model.add(layers.LeakyReLU())\n",
    "\n",
    "    #Deconvolute from 28x28x64 to 56x56x3\n",
    "    model.add(layers.Conv2DTranspose(3, (5, 5), strides=(2, 2), padding='same', use_bias=False, activation='tanh'))\n",
    "\n",
    "    assert model.output_shape == (None, 56, 56, 3)\n",
    "\n",
    "    return model\n"
   ]
  },
  {
   "cell_type": "code",
   "execution_count": 4,
   "id": "03b24e11",
   "metadata": {
    "ExecuteTime": {
     "end_time": "2023-03-07T09:52:47.255128Z",
     "start_time": "2023-03-07T09:52:47.247197Z"
    }
   },
   "outputs": [],
   "source": [
    "def test_generator_model_untrained(model) :\n",
    "    noise = normal([1,100])\n",
    "    generated_image = model(noise, training=False)\n",
    "    generated_image_descaled = generated_image[0] * 255 \n",
    "    plt.imshow(generated_image_descaled[:,:,:])\n",
    "    print(generated_image_descaled)"
   ]
  },
  {
   "cell_type": "code",
   "execution_count": 5,
   "id": "45a9a27d",
   "metadata": {
    "ExecuteTime": {
     "end_time": "2023-03-07T09:52:47.532395Z",
     "start_time": "2023-03-07T09:52:47.258305Z"
    }
   },
   "outputs": [],
   "source": [
    "generator = make_generator_model()"
   ]
  },
  {
   "cell_type": "code",
   "execution_count": 6,
   "id": "4f74394d",
   "metadata": {
    "ExecuteTime": {
     "end_time": "2023-03-07T09:52:47.613255Z",
     "start_time": "2023-03-07T09:52:47.536775Z"
    }
   },
   "outputs": [],
   "source": [
    "generator.summary()"
   ]
  },
  {
   "cell_type": "code",
   "execution_count": 7,
   "id": "a806c9e2",
   "metadata": {
    "ExecuteTime": {
     "end_time": "2023-03-07T09:52:47.911572Z",
     "start_time": "2023-03-07T09:52:47.619420Z"
    },
    "scrolled": false
   },
   "outputs": [],
   "source": [
    "test = test_generator_model_untrained(generator)"
   ]
  },
  {
   "cell_type": "markdown",
   "id": "1b5fd3a5",
   "metadata": {},
   "source": [
    "## Discriminator"
   ]
  },
  {
   "cell_type": "code",
   "execution_count": 8,
   "id": "bf816347",
   "metadata": {
    "ExecuteTime": {
     "end_time": "2023-03-07T09:52:47.920715Z",
     "start_time": "2023-03-07T09:52:47.914340Z"
    }
   },
   "outputs": [],
   "source": [
    "def make_discriminator_model():\n",
    "    model = Sequential([\n",
    "        layers.Conv2D(64, (5,5), strides=(2, 2), padding='same', input_shape=[56, 56 , 3]),\n",
    "#         layers.MaxPool2D(pool_size = (2,2), padding='same'),\n",
    "        layers.LeakyReLU(),\n",
    "        layers.Dropout(0.4),\n",
    "        \n",
    "        \n",
    "        layers.Conv2D(128, (3,3), strides = (2,2), padding = 'same'),\n",
    "        layers.LeakyReLU(),\n",
    "        layers.Dropout(0.4),\n",
    "        \n",
    "        layers.Flatten(),\n",
    "        layers.Dense(1, activation = 'sigmoid' )])\n",
    "\n",
    "    return model"
   ]
  },
  {
   "cell_type": "code",
   "execution_count": 9,
   "id": "fe8c33dd",
   "metadata": {
    "ExecuteTime": {
     "end_time": "2023-03-07T09:52:47.993906Z",
     "start_time": "2023-03-07T09:52:47.927293Z"
    }
   },
   "outputs": [],
   "source": [
    "discriminator = make_discriminator_model()"
   ]
  },
  {
   "cell_type": "code",
   "execution_count": 10,
   "id": "ef43a198",
   "metadata": {
    "ExecuteTime": {
     "end_time": "2023-03-07T09:52:48.033078Z",
     "start_time": "2023-03-07T09:52:47.997001Z"
    }
   },
   "outputs": [],
   "source": [
    "discriminator.summary()"
   ]
  },
  {
   "cell_type": "code",
   "execution_count": 11,
   "id": "cff6d4e4",
   "metadata": {
    "ExecuteTime": {
     "end_time": "2023-03-07T09:52:48.040510Z",
     "start_time": "2023-03-07T09:52:48.036076Z"
    }
   },
   "outputs": [],
   "source": [
    "# decision = discriminator(generated_image)\n",
    "# print (decision)"
   ]
  },
  {
   "cell_type": "markdown",
   "id": "f9bbb678",
   "metadata": {},
   "source": [
    "## Loss and Optimizers"
   ]
  },
  {
   "cell_type": "markdown",
   "id": "e2baa4c2",
   "metadata": {},
   "source": [
    "### Dicsriminator loss:"
   ]
  },
  {
   "cell_type": "code",
   "execution_count": 12,
   "id": "138f2674",
   "metadata": {
    "ExecuteTime": {
     "end_time": "2023-03-07T09:52:48.049751Z",
     "start_time": "2023-03-07T09:52:48.045392Z"
    }
   },
   "outputs": [],
   "source": [
    "# This method returns a helper function to compute cross entropy loss\n",
    "cross_entropy = BinaryCrossentropy(from_logits=True)"
   ]
  },
  {
   "cell_type": "code",
   "execution_count": 13,
   "id": "1c502a23",
   "metadata": {
    "ExecuteTime": {
     "end_time": "2023-03-07T09:52:48.058819Z",
     "start_time": "2023-03-07T09:52:48.053194Z"
    }
   },
   "outputs": [],
   "source": [
    "def discriminator_loss(real_output, fake_output):\n",
    "    real_loss = cross_entropy(ones_like(real_output), real_output)\n",
    "    fake_loss = cross_entropy(zeros_like(fake_output), fake_output)\n",
    "    total_loss = real_loss + fake_loss\n",
    "    return total_loss"
   ]
  },
  {
   "cell_type": "markdown",
   "id": "701e0095",
   "metadata": {},
   "source": [
    "### Generator loss:"
   ]
  },
  {
   "cell_type": "code",
   "execution_count": 14,
   "id": "b11c9b9c",
   "metadata": {
    "ExecuteTime": {
     "end_time": "2023-03-07T09:52:48.066887Z",
     "start_time": "2023-03-07T09:52:48.063047Z"
    }
   },
   "outputs": [],
   "source": [
    "def generator_loss(fake_output):\n",
    "    return cross_entropy(ones_like(fake_output), fake_output)"
   ]
  },
  {
   "cell_type": "markdown",
   "id": "eb382288",
   "metadata": {},
   "source": [
    "### Optimizers: "
   ]
  },
  {
   "cell_type": "code",
   "execution_count": 15,
   "id": "b09ae9b2",
   "metadata": {
    "ExecuteTime": {
     "end_time": "2023-03-07T09:52:48.574083Z",
     "start_time": "2023-03-07T09:52:48.071739Z"
    }
   },
   "outputs": [],
   "source": [
    "generator_optimizer = Adam(learning_rate = 0.0001)\n",
    "discriminator_optimizer = Adam(learning_rate = 0.0001)"
   ]
  },
  {
   "cell_type": "markdown",
   "id": "906765cb",
   "metadata": {},
   "source": [
    "## Checkpoints"
   ]
  },
  {
   "cell_type": "code",
   "execution_count": 16,
   "id": "20a1bdb4",
   "metadata": {
    "ExecuteTime": {
     "end_time": "2023-03-07T09:54:02.499716Z",
     "start_time": "2023-03-07T09:54:02.451071Z"
    }
   },
   "outputs": [],
   "source": [
    "checkpoint_dir = './training_checkpoints'\n",
    "checkpoint_prefix = os.path.join(checkpoint_dir, \"ckpt\")\n",
    "checkpoint = Checkpoint(generator_optimizer=generator_optimizer,\n",
    "                                 discriminator_optimizer=discriminator_optimizer,\n",
    "                                 generator=generator,\n",
    "                                 discriminator=discriminator)"
   ]
  },
  {
   "cell_type": "markdown",
   "id": "425fece6",
   "metadata": {},
   "source": [
    "## Training"
   ]
  },
  {
   "cell_type": "markdown",
   "id": "e3de9072",
   "metadata": {},
   "source": [
    "### Training loops"
   ]
  },
  {
   "cell_type": "code",
   "execution_count": 17,
   "id": "5bac69ea",
   "metadata": {
    "ExecuteTime": {
     "end_time": "2023-03-07T09:54:03.854689Z",
     "start_time": "2023-03-07T09:54:03.846247Z"
    }
   },
   "outputs": [],
   "source": [
    "epochs = 50\n",
    "noise_dim = 100\n",
    "num_examples_to_generate = 16"
   ]
  },
  {
   "cell_type": "code",
   "execution_count": 18,
   "id": "67151c5c",
   "metadata": {
    "ExecuteTime": {
     "end_time": "2023-03-07T09:54:04.420721Z",
     "start_time": "2023-03-07T09:54:04.401303Z"
    }
   },
   "outputs": [],
   "source": [
    "@function\n",
    "def train_step(images):\n",
    "    noise = random.normal([BATCH_SIZE, noise_dim])\n",
    "\n",
    "    with GradientTape() as gen_tape, GradientTape() as disc_tape:\n",
    "        generated_images = generator(noise, training=True)\n",
    "\n",
    "        real_output = discriminator(images, training=True)\n",
    "        fake_output = discriminator(generated_images, training=True)\n",
    "\n",
    "        gen_loss = generator_loss(fake_output)\n",
    "        disc_loss = discriminator_loss(real_output, fake_output)\n",
    "\n",
    "    gradients_of_generator = gen_tape.gradient(gen_loss, generator.trainable_variables)\n",
    "    gradients_of_discriminator = disc_tape.gradient(disc_loss, discriminator.trainable_variables)\n",
    "\n",
    "    generator_optimizer.apply_gradients(zip(gradients_of_generator, generator.trainable_variables))\n",
    "    discriminator_optimizer.apply_gradients(zip(gradients_of_discriminator, discriminator.trainable_variables))"
   ]
  },
  {
   "cell_type": "markdown",
   "id": "6c4a98f4",
   "metadata": {},
   "source": [
    "### Train function"
   ]
  },
  {
   "cell_type": "code",
   "execution_count": 19,
   "id": "d0ec7791",
   "metadata": {
    "ExecuteTime": {
     "end_time": "2023-03-07T09:54:05.175454Z",
     "start_time": "2023-03-07T09:54:05.162061Z"
    }
   },
   "outputs": [],
   "source": [
    "def generate_and_save_images(model, epoch, test_input):\n",
    "  # Notice `training` is set to False.\n",
    "  # This is so all layers run in inference mode (batchnorm).\n",
    "    predictions = model(test_input, training=False)\n",
    "\n",
    "    fig = plt.figure(figsize=(4, 4))\n",
    "\n",
    "    for i in range(predictions.shape[0]):\n",
    "        plt.subplot(4, 4, i+1)\n",
    "        plt.imshow(predictions[i, :, :, :] * 255, )\n",
    "        plt.axis('off')\n",
    "\n",
    "    plt.savefig(f'image_at_epoch_{epoch}.png',)\n",
    "    plt.show()"
   ]
  },
  {
   "cell_type": "code",
   "execution_count": 20,
   "id": "347917f9",
   "metadata": {
    "ExecuteTime": {
     "end_time": "2023-03-07T09:54:05.616631Z",
     "start_time": "2023-03-07T09:54:05.606913Z"
    }
   },
   "outputs": [],
   "source": [
    "def train(dataset, epochs):\n",
    "    for epoch in range(epochs):\n",
    "        start = time.time()\n",
    "\n",
    "    for image_batch in dataset:\n",
    "        train_step(image_batch)\n",
    "\n",
    "    # Produce images as you go\n",
    "    display.clear_output(wait=True)\n",
    "    generate_and_save_images(generator,\n",
    "                             epoch + 1)\n",
    "\n",
    "    # Save the model every 10 epochs\n",
    "    if (epoch + 1) % 10 == 0:\n",
    "        checkpoint.save(file_prefix = checkpoint_prefix)\n",
    "\n",
    "        print ('Time for epoch {} is {} sec'.format(epoch + 1, time.time()-start))\n",
    "\n",
    "  # Generate after the final epoch\n",
    "    display.clear_output(wait=True)\n",
    "    generate_and_save_images(generator,\n",
    "                               epochs)"
   ]
  },
  {
   "cell_type": "code",
   "execution_count": null,
   "id": "25a88d54",
   "metadata": {},
   "outputs": [],
   "source": []
  },
  {
   "cell_type": "code",
   "execution_count": null,
   "id": "dcc2ec07",
   "metadata": {},
   "outputs": [],
   "source": []
  }
 ],
 "metadata": {
  "kernelspec": {
   "display_name": "Python 3 (ipykernel)",
   "language": "python",
   "name": "python3"
  },
  "language_info": {
   "codemirror_mode": {
    "name": "ipython",
    "version": 3
   },
   "file_extension": ".py",
   "mimetype": "text/x-python",
   "name": "python",
   "nbconvert_exporter": "python",
   "pygments_lexer": "ipython3",
   "version": "3.10.6"
  },
  "toc": {
   "base_numbering": 1,
   "nav_menu": {},
   "number_sections": true,
   "sideBar": true,
   "skip_h1_title": false,
   "title_cell": "Table of Contents",
   "title_sidebar": "Contents",
   "toc_cell": false,
   "toc_position": {},
   "toc_section_display": true,
   "toc_window_display": false
  }
 },
 "nbformat": 4,
 "nbformat_minor": 5
}
